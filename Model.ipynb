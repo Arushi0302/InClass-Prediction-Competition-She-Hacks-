{
  "nbformat": 4,
  "nbformat_minor": 0,
  "metadata": {
    "colab": {
      "name": "Model.ipynb",
      "provenance": [],
      "toc_visible": true,
      "authorship_tag": "ABX9TyPkNqoMRK1Y2Wgo/JPlyBVa",
      "include_colab_link": true
    },
    "kernelspec": {
      "name": "python3",
      "display_name": "Python 3"
    }
  },
  "cells": [
    {
      "cell_type": "markdown",
      "metadata": {
        "id": "view-in-github",
        "colab_type": "text"
      },
      "source": [
        "<a href=\"https://colab.research.google.com/github/Arushi0302/InClass-Prediction-Competition-She-Hacks-/blob/main/Model.ipynb\" target=\"_parent\"><img src=\"https://colab.research.google.com/assets/colab-badge.svg\" alt=\"Open In Colab\"/></a>"
      ]
    },
    {
      "cell_type": "code",
      "metadata": {
        "id": "71nJErkdp3za"
      },
      "source": [
        "import numpy as np\r\n",
        "import matplotlib.pyplot as mtp  \r\n",
        "import pandas as pd  \r\n",
        "from sklearn.metrics import mean_squared_error\r\n",
        "from math import sqrt\r\n",
        "\r\n",
        "# Standard ML Models for comparison\r\n",
        "from sklearn.linear_model import LinearRegression\r\n",
        "from sklearn.linear_model import ElasticNet\r\n",
        "from sklearn.ensemble import RandomForestRegressor\r\n",
        "from sklearn.ensemble import ExtraTreesRegressor\r\n",
        "from sklearn.ensemble import GradientBoostingRegressor\r\n",
        "from sklearn.svm import SVR\r\n",
        "\r\n",
        "# Splitting data into training/testing\r\n",
        "from sklearn.model_selection import train_test_split\r\n",
        "from sklearn.preprocessing import MinMaxScaler\r\n",
        "\r\n",
        "# Metrics\r\n",
        "from sklearn.metrics import mean_squared_error, mean_absolute_error, median_absolute_error\r\n",
        "\r\n",
        "# Distributions\r\n",
        "import scipy"
      ],
      "execution_count": null,
      "outputs": []
    },
    {
      "cell_type": "code",
      "metadata": {
        "id": "4iLKsA9AuN-q"
      },
      "source": [
        "data_set= pd.read_csv('/content/wells_fargo_train.csv')  "
      ],
      "execution_count": null,
      "outputs": []
    },
    {
      "cell_type": "code",
      "metadata": {
        "colab": {
          "base_uri": "https://localhost:8080/",
          "height": 400
        },
        "id": "Rdj8bdRQujOU",
        "outputId": "c813c4ce-c34c-426d-9764-2b7f11ce5b52"
      },
      "source": [
        "data_set.head()"
      ],
      "execution_count": null,
      "outputs": [
        {
          "output_type": "execute_result",
          "data": {
            "text/html": [
              "<div>\n",
              "<style scoped>\n",
              "    .dataframe tbody tr th:only-of-type {\n",
              "        vertical-align: middle;\n",
              "    }\n",
              "\n",
              "    .dataframe tbody tr th {\n",
              "        vertical-align: top;\n",
              "    }\n",
              "\n",
              "    .dataframe thead th {\n",
              "        text-align: right;\n",
              "    }\n",
              "</style>\n",
              "<table border=\"1\" class=\"dataframe\">\n",
              "  <thead>\n",
              "    <tr style=\"text-align: right;\">\n",
              "      <th></th>\n",
              "      <th>Id</th>\n",
              "      <th>Fiscal Year</th>\n",
              "      <th>Term Type</th>\n",
              "      <th>Career</th>\n",
              "      <th>Program Level</th>\n",
              "      <th>Study Year</th>\n",
              "      <th>Campus_Id</th>\n",
              "      <th>Faculty Group</th>\n",
              "      <th>Program Grouping</th>\n",
              "      <th>Coop Regular</th>\n",
              "      <th>WorkTerm</th>\n",
              "      <th>Attendance</th>\n",
              "      <th>Visa Status</th>\n",
              "      <th>Gender</th>\n",
              "      <th>Unique Headcount</th>\n",
              "    </tr>\n",
              "  </thead>\n",
              "  <tbody>\n",
              "    <tr>\n",
              "      <th>0</th>\n",
              "      <td>0</td>\n",
              "      <td>2008/09</td>\n",
              "      <td>Fall term</td>\n",
              "      <td>Graduate</td>\n",
              "      <td>Doctoral</td>\n",
              "      <td>D</td>\n",
              "      <td>4</td>\n",
              "      <td>AHS</td>\n",
              "      <td>Aging, Health and Well-Being</td>\n",
              "      <td>Regular</td>\n",
              "      <td>Academic Term</td>\n",
              "      <td>Full-Time</td>\n",
              "      <td>Canadian</td>\n",
              "      <td>Male</td>\n",
              "      <td>5</td>\n",
              "    </tr>\n",
              "    <tr>\n",
              "      <th>1</th>\n",
              "      <td>1</td>\n",
              "      <td>2008/09</td>\n",
              "      <td>Fall term</td>\n",
              "      <td>Graduate</td>\n",
              "      <td>Doctoral</td>\n",
              "      <td>D</td>\n",
              "      <td>4</td>\n",
              "      <td>AHS</td>\n",
              "      <td>Aging, Health and Well-Being</td>\n",
              "      <td>Regular</td>\n",
              "      <td>Academic Term</td>\n",
              "      <td>Full-Time</td>\n",
              "      <td>Canadian</td>\n",
              "      <td>Female</td>\n",
              "      <td>7</td>\n",
              "    </tr>\n",
              "    <tr>\n",
              "      <th>2</th>\n",
              "      <td>2</td>\n",
              "      <td>2008/09</td>\n",
              "      <td>Fall term</td>\n",
              "      <td>Graduate</td>\n",
              "      <td>Doctoral</td>\n",
              "      <td>D</td>\n",
              "      <td>4</td>\n",
              "      <td>AHS</td>\n",
              "      <td>Aging, Health and Well-Being</td>\n",
              "      <td>Regular</td>\n",
              "      <td>Academic Term</td>\n",
              "      <td>Full-Time</td>\n",
              "      <td>International</td>\n",
              "      <td>Female</td>\n",
              "      <td>1</td>\n",
              "    </tr>\n",
              "    <tr>\n",
              "      <th>3</th>\n",
              "      <td>3</td>\n",
              "      <td>2008/09</td>\n",
              "      <td>Fall term</td>\n",
              "      <td>Graduate</td>\n",
              "      <td>Doctoral</td>\n",
              "      <td>D</td>\n",
              "      <td>4</td>\n",
              "      <td>AHS</td>\n",
              "      <td>Health Studies and Gerontology</td>\n",
              "      <td>Regular</td>\n",
              "      <td>Academic Term</td>\n",
              "      <td>Full-Time</td>\n",
              "      <td>Canadian</td>\n",
              "      <td>Male</td>\n",
              "      <td>3</td>\n",
              "    </tr>\n",
              "    <tr>\n",
              "      <th>4</th>\n",
              "      <td>4</td>\n",
              "      <td>2008/09</td>\n",
              "      <td>Fall term</td>\n",
              "      <td>Graduate</td>\n",
              "      <td>Doctoral</td>\n",
              "      <td>D</td>\n",
              "      <td>4</td>\n",
              "      <td>AHS</td>\n",
              "      <td>Health Studies and Gerontology</td>\n",
              "      <td>Regular</td>\n",
              "      <td>Academic Term</td>\n",
              "      <td>Full-Time</td>\n",
              "      <td>Canadian</td>\n",
              "      <td>Female</td>\n",
              "      <td>11</td>\n",
              "    </tr>\n",
              "  </tbody>\n",
              "</table>\n",
              "</div>"
            ],
            "text/plain": [
              "   Id Fiscal Year  Term Type  ...    Visa Status  Gender Unique Headcount\n",
              "0   0     2008/09  Fall term  ...       Canadian    Male                5\n",
              "1   1     2008/09  Fall term  ...       Canadian  Female                7\n",
              "2   2     2008/09  Fall term  ...  International  Female                1\n",
              "3   3     2008/09  Fall term  ...       Canadian    Male                3\n",
              "4   4     2008/09  Fall term  ...       Canadian  Female               11\n",
              "\n",
              "[5 rows x 15 columns]"
            ]
          },
          "metadata": {
            "tags": []
          },
          "execution_count": 4
        }
      ]
    },
    {
      "cell_type": "code",
      "metadata": {
        "id": "aA841_lQ3fvY",
        "colab": {
          "base_uri": "https://localhost:8080/",
          "height": 233
        },
        "outputId": "39613de8-5e7b-49c1-c613-cfe6a272db3d"
      },
      "source": [
        "data_set.tail()"
      ],
      "execution_count": null,
      "outputs": [
        {
          "output_type": "execute_result",
          "data": {
            "text/html": [
              "<div>\n",
              "<style scoped>\n",
              "    .dataframe tbody tr th:only-of-type {\n",
              "        vertical-align: middle;\n",
              "    }\n",
              "\n",
              "    .dataframe tbody tr th {\n",
              "        vertical-align: top;\n",
              "    }\n",
              "\n",
              "    .dataframe thead th {\n",
              "        text-align: right;\n",
              "    }\n",
              "</style>\n",
              "<table border=\"1\" class=\"dataframe\">\n",
              "  <thead>\n",
              "    <tr style=\"text-align: right;\">\n",
              "      <th></th>\n",
              "      <th>Id</th>\n",
              "      <th>Fiscal Year</th>\n",
              "      <th>Term Type</th>\n",
              "      <th>Career</th>\n",
              "      <th>Program Level</th>\n",
              "      <th>Study Year</th>\n",
              "      <th>Campus_Id</th>\n",
              "      <th>Faculty Group</th>\n",
              "      <th>Program Grouping</th>\n",
              "      <th>Coop Regular</th>\n",
              "      <th>WorkTerm</th>\n",
              "      <th>Attendance</th>\n",
              "      <th>Visa Status</th>\n",
              "      <th>Gender</th>\n",
              "      <th>Unique Headcount</th>\n",
              "    </tr>\n",
              "  </thead>\n",
              "  <tbody>\n",
              "    <tr>\n",
              "      <th>24538</th>\n",
              "      <td>24538</td>\n",
              "      <td>2</td>\n",
              "      <td>1</td>\n",
              "      <td>1</td>\n",
              "      <td>0</td>\n",
              "      <td>2</td>\n",
              "      <td>4</td>\n",
              "      <td>3</td>\n",
              "      <td>88</td>\n",
              "      <td>0</td>\n",
              "      <td>1</td>\n",
              "      <td>0</td>\n",
              "      <td>2</td>\n",
              "      <td>0</td>\n",
              "      <td>1</td>\n",
              "    </tr>\n",
              "    <tr>\n",
              "      <th>24539</th>\n",
              "      <td>24539</td>\n",
              "      <td>2</td>\n",
              "      <td>1</td>\n",
              "      <td>1</td>\n",
              "      <td>0</td>\n",
              "      <td>2</td>\n",
              "      <td>4</td>\n",
              "      <td>3</td>\n",
              "      <td>89</td>\n",
              "      <td>0</td>\n",
              "      <td>0</td>\n",
              "      <td>0</td>\n",
              "      <td>0</td>\n",
              "      <td>1</td>\n",
              "      <td>72</td>\n",
              "    </tr>\n",
              "    <tr>\n",
              "      <th>24540</th>\n",
              "      <td>24540</td>\n",
              "      <td>2</td>\n",
              "      <td>1</td>\n",
              "      <td>1</td>\n",
              "      <td>0</td>\n",
              "      <td>2</td>\n",
              "      <td>4</td>\n",
              "      <td>3</td>\n",
              "      <td>89</td>\n",
              "      <td>0</td>\n",
              "      <td>0</td>\n",
              "      <td>0</td>\n",
              "      <td>0</td>\n",
              "      <td>0</td>\n",
              "      <td>4</td>\n",
              "    </tr>\n",
              "    <tr>\n",
              "      <th>24541</th>\n",
              "      <td>24541</td>\n",
              "      <td>2</td>\n",
              "      <td>1</td>\n",
              "      <td>1</td>\n",
              "      <td>0</td>\n",
              "      <td>2</td>\n",
              "      <td>4</td>\n",
              "      <td>3</td>\n",
              "      <td>89</td>\n",
              "      <td>0</td>\n",
              "      <td>0</td>\n",
              "      <td>0</td>\n",
              "      <td>1</td>\n",
              "      <td>1</td>\n",
              "      <td>15</td>\n",
              "    </tr>\n",
              "    <tr>\n",
              "      <th>24542</th>\n",
              "      <td>24542</td>\n",
              "      <td>2</td>\n",
              "      <td>1</td>\n",
              "      <td>1</td>\n",
              "      <td>0</td>\n",
              "      <td>2</td>\n",
              "      <td>4</td>\n",
              "      <td>3</td>\n",
              "      <td>89</td>\n",
              "      <td>0</td>\n",
              "      <td>0</td>\n",
              "      <td>0</td>\n",
              "      <td>2</td>\n",
              "      <td>1</td>\n",
              "      <td>4</td>\n",
              "    </tr>\n",
              "  </tbody>\n",
              "</table>\n",
              "</div>"
            ],
            "text/plain": [
              "          Id  Fiscal Year  Term Type  ...  Visa Status  Gender  Unique Headcount\n",
              "24538  24538            2          1  ...            2       0                 1\n",
              "24539  24539            2          1  ...            0       1                72\n",
              "24540  24540            2          1  ...            0       0                 4\n",
              "24541  24541            2          1  ...            1       1                15\n",
              "24542  24542            2          1  ...            2       1                 4\n",
              "\n",
              "[5 rows x 15 columns]"
            ]
          },
          "metadata": {
            "tags": []
          },
          "execution_count": 79
        }
      ]
    },
    {
      "cell_type": "code",
      "metadata": {
        "colab": {
          "base_uri": "https://localhost:8080/"
        },
        "id": "r9UiTwXUu5LR",
        "outputId": "e619e987-91ec-49f4-f5f0-ff8b038d454c"
      },
      "source": [
        "\r\n",
        "x.shape"
      ],
      "execution_count": null,
      "outputs": [
        {
          "output_type": "execute_result",
          "data": {
            "text/plain": [
              "(24543, 14)"
            ]
          },
          "metadata": {
            "tags": []
          },
          "execution_count": 6
        }
      ]
    },
    {
      "cell_type": "code",
      "metadata": {
        "colab": {
          "base_uri": "https://localhost:8080/"
        },
        "id": "wxWW-Xjiu8-l",
        "outputId": "58110519-8cfd-4510-fc3e-a0fec2c1ecf3"
      },
      "source": [
        "\r\n",
        "# Import label encoder \r\n",
        "from sklearn import preprocessing \r\n",
        "  \r\n",
        "# label_encoder object knows how to understand word labels. \r\n",
        "label_encoder = preprocessing.LabelEncoder() \r\n",
        "  \r\n",
        "# Encode labels in column 'species'. \r\n",
        "data_set['Gender']= label_encoder.fit_transform(data_set['Gender'])  \r\n",
        "data_set['Gender'].unique() \r\n",
        "\r\n",
        "data_set['Visa Status']= label_encoder.fit_transform(data_set['Visa Status'])  \r\n",
        "data_set['Visa Status'].unique() \r\n",
        "\r\n",
        "data_set['Attendance']= label_encoder.fit_transform(data_set['Attendance'])  \r\n",
        "data_set['Attendance'].unique() \r\n",
        "\r\n",
        "data_set['WorkTerm']= label_encoder.fit_transform(data_set['WorkTerm'])  \r\n",
        "data_set['WorkTerm'].unique() \r\n",
        "\r\n",
        "data_set['Coop Regular']= label_encoder.fit_transform(data_set['Coop Regular'])  \r\n",
        "data_set['Coop Regular'].unique() \r\n",
        "\r\n",
        "data_set['Program Grouping']= label_encoder.fit_transform(data_set['Program Grouping'])  \r\n",
        "data_set['Program Grouping'].unique() \r\n",
        "\r\n",
        "data_set['Faculty Group']= label_encoder.fit_transform(data_set['Faculty Group'])  \r\n",
        "data_set['Faculty Group'].unique() \r\n",
        "\r\n",
        "data_set['Study Year']= label_encoder.fit_transform(data_set['Study Year'])  \r\n",
        "data_set['Study Year'].unique() \r\n",
        "\r\n",
        "data_set['Program Level']= label_encoder.fit_transform(data_set['Program Level'])  \r\n",
        "data_set['Program Level'].unique() \r\n",
        "\r\n",
        "data_set['Career']= label_encoder.fit_transform(data_set['Career'])  \r\n",
        "data_set['Career'].unique() \r\n",
        "\r\n",
        "data_set['Term Type']= label_encoder.fit_transform(data_set['Term Type'])  \r\n",
        "data_set['Term Type'].unique() \r\n",
        "\r\n",
        "data_set['Fiscal Year']= label_encoder.fit_transform(data_set['Fiscal Year'])  \r\n",
        "data_set['Fiscal Year'].unique() "
      ],
      "execution_count": null,
      "outputs": [
        {
          "output_type": "execute_result",
          "data": {
            "text/plain": [
              "array([0, 1, 2])"
            ]
          },
          "metadata": {
            "tags": []
          },
          "execution_count": 7
        }
      ]
    },
    {
      "cell_type": "code",
      "metadata": {
        "id": "mz8hKoXH3ghr"
      },
      "source": [
        "x= data_set.iloc[:, :-1].values  \r\n",
        "y= data_set.iloc[:,-1].values  "
      ],
      "execution_count": null,
      "outputs": []
    },
    {
      "cell_type": "code",
      "metadata": {
        "colab": {
          "base_uri": "https://localhost:8080/"
        },
        "id": "k351Hg_F3a0b",
        "outputId": "2c213677-ec39-44d5-a7ec-1a4ffcd2792c"
      },
      "source": [
        "x.shape"
      ],
      "execution_count": null,
      "outputs": [
        {
          "output_type": "execute_result",
          "data": {
            "text/plain": [
              "(24543, 14)"
            ]
          },
          "metadata": {
            "tags": []
          },
          "execution_count": 9
        }
      ]
    },
    {
      "cell_type": "code",
      "metadata": {
        "id": "6wyGEPIWu7FC"
      },
      "source": [
        "# Splitting the dataset into training and test set.  \r\n",
        "from sklearn.model_selection import train_test_split  \r\n",
        "x_train, x_test, y_train, y_test= train_test_split(x, y, test_size= 0.25, random_state=0)  "
      ],
      "execution_count": null,
      "outputs": []
    },
    {
      "cell_type": "code",
      "metadata": {
        "colab": {
          "base_uri": "https://localhost:8080/"
        },
        "id": "o9bGLiPcDGNu",
        "outputId": "57dce573-03fe-4d87-d7ff-5be69ae338b1"
      },
      "source": [
        "x_test.shape"
      ],
      "execution_count": null,
      "outputs": [
        {
          "output_type": "execute_result",
          "data": {
            "text/plain": [
              "(6136, 14)"
            ]
          },
          "metadata": {
            "tags": []
          },
          "execution_count": 11
        }
      ]
    },
    {
      "cell_type": "markdown",
      "metadata": {
        "id": "D3che2YW-wTY"
      },
      "source": [
        "# **Decision Tree Classifier - GINI**"
      ]
    },
    {
      "cell_type": "code",
      "metadata": {
        "colab": {
          "base_uri": "https://localhost:8080/"
        },
        "id": "s6hdQB3SvqQR",
        "outputId": "0a7a55b0-3d82-4dc7-92ab-e64fc9e33722"
      },
      "source": [
        "#Fitting Decision Tree classifier to the training set  \r\n",
        "from sklearn.tree import DecisionTreeClassifier  \r\n",
        "classifier= DecisionTreeClassifier(criterion='gini', random_state=2,min_samples_leaf=7,max_features=0.5)  \r\n",
        "classifier.fit(x_train, y_train)  "
      ],
      "execution_count": null,
      "outputs": [
        {
          "output_type": "execute_result",
          "data": {
            "text/plain": [
              "DecisionTreeClassifier(ccp_alpha=0.0, class_weight=None, criterion='gini',\n",
              "                       max_depth=None, max_features=0.5, max_leaf_nodes=None,\n",
              "                       min_impurity_decrease=0.0, min_impurity_split=None,\n",
              "                       min_samples_leaf=7, min_samples_split=2,\n",
              "                       min_weight_fraction_leaf=0.0, presort='deprecated',\n",
              "                       random_state=2, splitter='best')"
            ]
          },
          "metadata": {
            "tags": []
          },
          "execution_count": 12
        }
      ]
    },
    {
      "cell_type": "code",
      "metadata": {
        "id": "8PQy_9asvx93"
      },
      "source": [
        "y_pred_dt= classifier.predict(x_test)  "
      ],
      "execution_count": null,
      "outputs": []
    },
    {
      "cell_type": "code",
      "metadata": {
        "colab": {
          "base_uri": "https://localhost:8080/"
        },
        "id": "kutcZkzy8pyV",
        "outputId": "693d1f2b-7bb0-4c8c-9549-8dee70641fe4"
      },
      "source": [
        "\r\n",
        "rms1 = sqrt(mean_squared_error(y_test, y_pred_dt))\r\n",
        "rms1"
      ],
      "execution_count": null,
      "outputs": [
        {
          "output_type": "execute_result",
          "data": {
            "text/plain": [
              "14.450202219975148"
            ]
          },
          "metadata": {
            "tags": []
          },
          "execution_count": 14
        }
      ]
    },
    {
      "cell_type": "code",
      "metadata": {
        "id": "Al-TrXCjA42H"
      },
      "source": [
        ""
      ],
      "execution_count": null,
      "outputs": []
    },
    {
      "cell_type": "markdown",
      "metadata": {
        "id": "4IMCGsvYJk-e"
      },
      "source": [
        "# **SVM**"
      ]
    },
    {
      "cell_type": "code",
      "metadata": {
        "id": "Ze85vM7yJqTZ"
      },
      "source": [
        "from sklearn.svm import SVC\r\n",
        "svclassifier = SVC(kernel='linear')\r\n",
        "svclassifier.fit(x_train, y_train)"
      ],
      "execution_count": null,
      "outputs": []
    },
    {
      "cell_type": "code",
      "metadata": {
        "id": "nVbHc-JYJ-LQ"
      },
      "source": [
        "y_pred_sv= svclassifier.predict(x_test)  "
      ],
      "execution_count": null,
      "outputs": []
    },
    {
      "cell_type": "code",
      "metadata": {
        "id": "e9BN42i5KHjW"
      },
      "source": [
        "rms5 = sqrt(mean_squared_error(y_test, y_pred_sv))\r\n",
        "rms5"
      ],
      "execution_count": null,
      "outputs": []
    },
    {
      "cell_type": "markdown",
      "metadata": {
        "id": "mAohZ_AzIRvk"
      },
      "source": [
        "# **Naive Bayes**"
      ]
    },
    {
      "cell_type": "code",
      "metadata": {
        "colab": {
          "base_uri": "https://localhost:8080/"
        },
        "id": "ocluCxscIYYR",
        "outputId": "779ec99f-2d1f-403b-863c-88f1e6e342a3"
      },
      "source": [
        "from sklearn.naive_bayes import GaussianNB\r\n",
        "classifiern= GaussianNB() \r\n",
        "classifiern.fit(x_train, y_train)"
      ],
      "execution_count": null,
      "outputs": [
        {
          "output_type": "execute_result",
          "data": {
            "text/plain": [
              "GaussianNB(priors=None, var_smoothing=1e-09)"
            ]
          },
          "metadata": {
            "tags": []
          },
          "execution_count": 36
        }
      ]
    },
    {
      "cell_type": "code",
      "metadata": {
        "id": "-WDMl4EhI7Q3"
      },
      "source": [
        "y_pred_nb= classifiern.predict(x_test)  "
      ],
      "execution_count": null,
      "outputs": []
    },
    {
      "cell_type": "code",
      "metadata": {
        "colab": {
          "base_uri": "https://localhost:8080/"
        },
        "id": "553R5bUkI9t-",
        "outputId": "c4d291b1-0132-40f0-c542-09dcc1a20cca"
      },
      "source": [
        "rms4 = sqrt(mean_squared_error(y_test, y_pred_nb))\r\n",
        "rms4"
      ],
      "execution_count": null,
      "outputs": [
        {
          "output_type": "execute_result",
          "data": {
            "text/plain": [
              "27.287968560263582"
            ]
          },
          "metadata": {
            "tags": []
          },
          "execution_count": 38
        }
      ]
    },
    {
      "cell_type": "markdown",
      "metadata": {
        "id": "F0z39wvZ-6AI"
      },
      "source": [
        "# **Random Forest**"
      ]
    },
    {
      "cell_type": "code",
      "metadata": {
        "colab": {
          "base_uri": "https://localhost:8080/"
        },
        "id": "ERoipR8A-_ug",
        "outputId": "fb74b4ea-26c4-4d07-bd4e-80f515fb1622"
      },
      "source": [
        "from sklearn.ensemble import RandomForestClassifier\r\n",
        "from sklearn.datasets import make_classification\r\n",
        "clf = RandomForestClassifier(n_estimators=200, min_samples_leaf=3, \r\n",
        "                      max_features=0.5, n_jobs=-1, oob_score=True)\r\n",
        "clf.fit(x_train, y_train)"
      ],
      "execution_count": null,
      "outputs": [
        {
          "output_type": "execute_result",
          "data": {
            "text/plain": [
              "RandomForestClassifier(bootstrap=True, ccp_alpha=0.0, class_weight=None,\n",
              "                       criterion='gini', max_depth=None, max_features=0.5,\n",
              "                       max_leaf_nodes=None, max_samples=None,\n",
              "                       min_impurity_decrease=0.0, min_impurity_split=None,\n",
              "                       min_samples_leaf=3, min_samples_split=2,\n",
              "                       min_weight_fraction_leaf=0.0, n_estimators=200,\n",
              "                       n_jobs=-1, oob_score=True, random_state=None, verbose=0,\n",
              "                       warm_start=False)"
            ]
          },
          "metadata": {
            "tags": []
          },
          "execution_count": 39
        }
      ]
    },
    {
      "cell_type": "code",
      "metadata": {
        "id": "lS5p1UB7_g0w"
      },
      "source": [
        "y_pred_rf= clf.predict(x_test) "
      ],
      "execution_count": null,
      "outputs": []
    },
    {
      "cell_type": "code",
      "metadata": {
        "colab": {
          "base_uri": "https://localhost:8080/"
        },
        "id": "SMPiEggJ_mDi",
        "outputId": "59c67ca7-5883-4757-a850-173670cb2bee"
      },
      "source": [
        "\r\n",
        "rms2 = sqrt(mean_squared_error(y_test, y_pred_rf))\r\n",
        "rms2"
      ],
      "execution_count": null,
      "outputs": [
        {
          "output_type": "execute_result",
          "data": {
            "text/plain": [
              "13.541999711747138"
            ]
          },
          "metadata": {
            "tags": []
          },
          "execution_count": 41
        }
      ]
    },
    {
      "cell_type": "code",
      "metadata": {
        "id": "bFKz1o3t_07I",
        "colab": {
          "base_uri": "https://localhost:8080/"
        },
        "outputId": "3e977706-1d79-4814-e7d4-2b87cb1a33c6"
      },
      "source": [
        "from sklearn.ensemble import RandomForestRegressor\r\n",
        "m = RandomForestRegressor(n_estimators=100, min_samples_leaf=3, \r\n",
        "                      max_features=0.5, n_jobs=-1, oob_score=True)\r\n",
        "m.fit(x_train, y_train)"
      ],
      "execution_count": null,
      "outputs": [
        {
          "output_type": "execute_result",
          "data": {
            "text/plain": [
              "RandomForestRegressor(bootstrap=True, ccp_alpha=0.0, criterion='mse',\n",
              "                      max_depth=None, max_features=0.5, max_leaf_nodes=None,\n",
              "                      max_samples=None, min_impurity_decrease=0.0,\n",
              "                      min_impurity_split=None, min_samples_leaf=3,\n",
              "                      min_samples_split=2, min_weight_fraction_leaf=0.0,\n",
              "                      n_estimators=100, n_jobs=-1, oob_score=True,\n",
              "                      random_state=None, verbose=0, warm_start=False)"
            ]
          },
          "metadata": {
            "tags": []
          },
          "execution_count": 24
        }
      ]
    },
    {
      "cell_type": "code",
      "metadata": {
        "id": "MFMTbLPxsl8N"
      },
      "source": [
        "y_pred_rfr= m.predict(x_test)"
      ],
      "execution_count": null,
      "outputs": []
    },
    {
      "cell_type": "code",
      "metadata": {
        "colab": {
          "base_uri": "https://localhost:8080/"
        },
        "id": "wMSyvEgGspw1",
        "outputId": "a53cb7fe-0eae-492d-e300-0349a7a52e9c"
      },
      "source": [
        "rms7 = sqrt(mean_squared_error(y_test, y_pred_rfr))\r\n",
        "rms7"
      ],
      "execution_count": null,
      "outputs": [
        {
          "output_type": "execute_result",
          "data": {
            "text/plain": [
              "9.487396802911636"
            ]
          },
          "metadata": {
            "tags": []
          },
          "execution_count": 26
        }
      ]
    },
    {
      "cell_type": "markdown",
      "metadata": {
        "id": "tg9ORcXg_4nC"
      },
      "source": [
        "# **Logistic Regression**"
      ]
    },
    {
      "cell_type": "code",
      "metadata": {
        "colab": {
          "base_uri": "https://localhost:8080/"
        },
        "id": "mUxPlMA8_8cZ",
        "outputId": "e2086060-9c45-4f94-c7c9-f9239a98c997"
      },
      "source": [
        "from sklearn.linear_model import LogisticRegression\r\n",
        "clfl = LogisticRegression(random_state=0)\r\n",
        "clfl.fit(x_train, y_train)"
      ],
      "execution_count": null,
      "outputs": [
        {
          "output_type": "stream",
          "text": [
            "/usr/local/lib/python3.6/dist-packages/sklearn/linear_model/_logistic.py:940: ConvergenceWarning: lbfgs failed to converge (status=1):\n",
            "STOP: TOTAL NO. of ITERATIONS REACHED LIMIT.\n",
            "\n",
            "Increase the number of iterations (max_iter) or scale the data as shown in:\n",
            "    https://scikit-learn.org/stable/modules/preprocessing.html\n",
            "Please also refer to the documentation for alternative solver options:\n",
            "    https://scikit-learn.org/stable/modules/linear_model.html#logistic-regression\n",
            "  extra_warning_msg=_LOGISTIC_SOLVER_CONVERGENCE_MSG)\n"
          ],
          "name": "stderr"
        },
        {
          "output_type": "execute_result",
          "data": {
            "text/plain": [
              "LogisticRegression(C=1.0, class_weight=None, dual=False, fit_intercept=True,\n",
              "                   intercept_scaling=1, l1_ratio=None, max_iter=100,\n",
              "                   multi_class='auto', n_jobs=None, penalty='l2',\n",
              "                   random_state=0, solver='lbfgs', tol=0.0001, verbose=0,\n",
              "                   warm_start=False)"
            ]
          },
          "metadata": {
            "tags": []
          },
          "execution_count": 23
        }
      ]
    },
    {
      "cell_type": "code",
      "metadata": {
        "id": "BqP2JWW8_8vp"
      },
      "source": [
        "y_pred_lr= clfl.predict(x_test) "
      ],
      "execution_count": null,
      "outputs": []
    },
    {
      "cell_type": "code",
      "metadata": {
        "colab": {
          "base_uri": "https://localhost:8080/"
        },
        "id": "gCHYbXBy_87Z",
        "outputId": "84a7559e-d710-4642-b75b-feb87c47d05a"
      },
      "source": [
        "rms3 = sqrt(mean_squared_error(y_test, y_pred_lr))\r\n",
        "rms3"
      ],
      "execution_count": null,
      "outputs": [
        {
          "output_type": "execute_result",
          "data": {
            "text/plain": [
              "18.693262899736784"
            ]
          },
          "metadata": {
            "tags": []
          },
          "execution_count": 25
        }
      ]
    },
    {
      "cell_type": "code",
      "metadata": {
        "id": "2Q9x3hkIAvRN"
      },
      "source": [
        ""
      ],
      "execution_count": null,
      "outputs": []
    },
    {
      "cell_type": "markdown",
      "metadata": {
        "id": "t6OSjOIuRDA0"
      },
      "source": [
        "# **Analysis**"
      ]
    },
    {
      "cell_type": "code",
      "metadata": {
        "id": "-kOhntTVRGPb"
      },
      "source": [
        "# Calculate mae and rmse\r\n",
        "def evaluate_predictions(predictions, true):\r\n",
        "    mae = np.mean(abs(predictions - true))\r\n",
        "    rmse = np.sqrt(np.mean((predictions - true) ** 2))\r\n",
        "\r\n",
        "    return mae, rmse"
      ],
      "execution_count": null,
      "outputs": []
    },
    {
      "cell_type": "code",
      "metadata": {
        "id": "vMfg4eXURG_I"
      },
      "source": [
        "def evaluate(X_train, X_test, y_train, y_test):\r\n",
        "    # Names of models\r\n",
        "    model_name_list = ['Linear Regression', 'ElasticNet Regression',\r\n",
        "                      'Random Forest', 'Extra Trees', 'SVM',\r\n",
        "                       'Gradient Boosted', 'Baseline']\r\n",
        "    \r\n",
        "    # Instantiate the models\r\n",
        "    model1 = LinearRegression()\r\n",
        "    model2 = ElasticNet(alpha=1.0, l1_ratio=0.5)\r\n",
        "    model3 = RandomForestRegressor(n_estimators=100)\r\n",
        "    model4 = ExtraTreesRegressor(n_estimators=100)\r\n",
        "    model5 = SVR(kernel='rbf', degree=3, C=1.0, gamma='auto')\r\n",
        "    model6 = GradientBoostingRegressor(n_estimators=50)\r\n",
        "    \r\n",
        "    # Dataframe for results\r\n",
        "    results = pd.DataFrame(columns=['mae', 'rmse'], index = model_name_list)\r\n",
        "    \r\n",
        "    # Train and predict with each model\r\n",
        "    for i, model in enumerate([model1, model2, model3, model4, model5, model6]):\r\n",
        "        model.fit(X_train, y_train)\r\n",
        "        predictions = model.predict(X_test)\r\n",
        "        \r\n",
        "        # Metrics\r\n",
        "        mae = np.mean(abs(predictions - y_test))\r\n",
        "        rmse = np.sqrt(np.mean((predictions - y_test) ** 2))\r\n",
        "        \r\n",
        "        # Insert results into the dataframe\r\n",
        "        model_name = model_name_list[i]\r\n",
        "        results.loc[model_name, :] = [mae, rmse]\r\n",
        "    \r\n",
        "    # Median Value Baseline Metrics\r\n",
        "    baseline = np.median(y_train)\r\n",
        "    baseline_mae = np.mean(abs(baseline - y_test))\r\n",
        "    baseline_rmse = np.sqrt(np.mean((baseline - y_test) ** 2))\r\n",
        "    \r\n",
        "    results.loc['Baseline', :] = [baseline_mae, baseline_rmse]\r\n",
        "    \r\n",
        "    return results"
      ],
      "execution_count": null,
      "outputs": []
    },
    {
      "cell_type": "code",
      "metadata": {
        "colab": {
          "base_uri": "https://localhost:8080/",
          "height": 254
        },
        "id": "NLeiXPZxRgzC",
        "outputId": "20b0fda3-7d91-4b6d-cfa4-9fa55c18e7ff"
      },
      "source": [
        "results = evaluate(x_train, x_test, y_train, y_test)\r\n",
        "results"
      ],
      "execution_count": null,
      "outputs": [
        {
          "output_type": "execute_result",
          "data": {
            "text/html": [
              "<div>\n",
              "<style scoped>\n",
              "    .dataframe tbody tr th:only-of-type {\n",
              "        vertical-align: middle;\n",
              "    }\n",
              "\n",
              "    .dataframe tbody tr th {\n",
              "        vertical-align: top;\n",
              "    }\n",
              "\n",
              "    .dataframe thead th {\n",
              "        text-align: right;\n",
              "    }\n",
              "</style>\n",
              "<table border=\"1\" class=\"dataframe\">\n",
              "  <thead>\n",
              "    <tr style=\"text-align: right;\">\n",
              "      <th></th>\n",
              "      <th>mae</th>\n",
              "      <th>rmse</th>\n",
              "    </tr>\n",
              "  </thead>\n",
              "  <tbody>\n",
              "    <tr>\n",
              "      <th>Linear Regression</th>\n",
              "      <td>8.33177</td>\n",
              "      <td>15.5097</td>\n",
              "    </tr>\n",
              "    <tr>\n",
              "      <th>ElasticNet Regression</th>\n",
              "      <td>8.48391</td>\n",
              "      <td>15.9695</td>\n",
              "    </tr>\n",
              "    <tr>\n",
              "      <th>Random Forest</th>\n",
              "      <td>3.53645</td>\n",
              "      <td>8.73639</td>\n",
              "    </tr>\n",
              "    <tr>\n",
              "      <th>Extra Trees</th>\n",
              "      <td>3.27348</td>\n",
              "      <td>7.70091</td>\n",
              "    </tr>\n",
              "    <tr>\n",
              "      <th>SVM</th>\n",
              "      <td>6.68859</td>\n",
              "      <td>16.9241</td>\n",
              "    </tr>\n",
              "    <tr>\n",
              "      <th>Gradient Boosted</th>\n",
              "      <td>7.1104</td>\n",
              "      <td>14.0186</td>\n",
              "    </tr>\n",
              "    <tr>\n",
              "      <th>Baseline</th>\n",
              "      <td>6.88168</td>\n",
              "      <td>17.4395</td>\n",
              "    </tr>\n",
              "  </tbody>\n",
              "</table>\n",
              "</div>"
            ],
            "text/plain": [
              "                           mae     rmse\n",
              "Linear Regression      8.33177  15.5097\n",
              "ElasticNet Regression  8.48391  15.9695\n",
              "Random Forest          3.53645  8.73639\n",
              "Extra Trees            3.27348  7.70091\n",
              "SVM                    6.68859  16.9241\n",
              "Gradient Boosted        7.1104  14.0186\n",
              "Baseline               6.88168  17.4395"
            ]
          },
          "metadata": {
            "tags": []
          },
          "execution_count": 51
        }
      ]
    },
    {
      "cell_type": "code",
      "metadata": {
        "id": "90YHQI96SQZQ"
      },
      "source": [
        "model4 = ExtraTreesRegressor(n_estimators=90)\r\n",
        "model4.fit(x_train, y_train)\r\n",
        "y_pred_et= model4.predict(x_test)"
      ],
      "execution_count": null,
      "outputs": []
    },
    {
      "cell_type": "code",
      "metadata": {
        "colab": {
          "base_uri": "https://localhost:8080/"
        },
        "id": "uZTDPiyrSoJ2",
        "outputId": "6dc77192-1b04-4639-80e6-ad7ac9651d68"
      },
      "source": [
        "rms10 = sqrt(mean_squared_error(y_test, y_pred_et))\r\n",
        "rms10"
      ],
      "execution_count": null,
      "outputs": [
        {
          "output_type": "execute_result",
          "data": {
            "text/plain": [
              "7.670822441763105"
            ]
          },
          "metadata": {
            "tags": []
          },
          "execution_count": 74
        }
      ]
    },
    {
      "cell_type": "markdown",
      "metadata": {
        "id": "NdNkwEzRBDHD"
      },
      "source": [
        "# **Testing**"
      ]
    },
    {
      "cell_type": "code",
      "metadata": {
        "id": "Z38LMil5A6Y7"
      },
      "source": [
        "data_set1= pd.read_csv('/content/wells_fargo_test.csv')  "
      ],
      "execution_count": null,
      "outputs": []
    },
    {
      "cell_type": "code",
      "metadata": {
        "colab": {
          "base_uri": "https://localhost:8080/"
        },
        "id": "4R6X5ISZBS4C",
        "outputId": "f9d55d41-0a05-4a38-e640-c2491535124c"
      },
      "source": [
        "from sklearn import preprocessing \r\n",
        "  \r\n",
        "# label_encoder object knows how to understand word labels. \r\n",
        "label_encoder = preprocessing.LabelEncoder() \r\n",
        "  \r\n",
        "# Encode labels in column 'species'. \r\n",
        "data_set1['Gender']= label_encoder.fit_transform(data_set1['Gender'])  \r\n",
        "data_set1['Gender'].unique() \r\n",
        "\r\n",
        "data_set1['Visa Status']= label_encoder.fit_transform(data_set1['Visa Status'])  \r\n",
        "data_set1['Visa Status'].unique() \r\n",
        "\r\n",
        "data_set1['Attendance']= label_encoder.fit_transform(data_set1['Attendance'])  \r\n",
        "data_set1['Attendance'].unique() \r\n",
        "\r\n",
        "data_set1['WorkTerm']= label_encoder.fit_transform(data_set1['WorkTerm'])  \r\n",
        "data_set1['WorkTerm'].unique() \r\n",
        "\r\n",
        "data_set1['Coop Regular']= label_encoder.fit_transform(data_set1['Coop Regular'])  \r\n",
        "data_set1['Coop Regular'].unique() \r\n",
        "\r\n",
        "data_set1['Program Grouping']= label_encoder.fit_transform(data_set1['Program Grouping'])  \r\n",
        "data_set1['Program Grouping'].unique() \r\n",
        "\r\n",
        "data_set1['Faculty Group']= label_encoder.fit_transform(data_set1['Faculty Group'])  \r\n",
        "data_set1['Faculty Group'].unique() \r\n",
        "\r\n",
        "data_set1['Study Year']= label_encoder.fit_transform(data_set1['Study Year'])  \r\n",
        "data_set1['Study Year'].unique() \r\n",
        "\r\n",
        "data_set1['Program Level']= label_encoder.fit_transform(data_set1['Program Level'])  \r\n",
        "data_set1['Program Level'].unique() \r\n",
        "\r\n",
        "data_set1['Career']= label_encoder.fit_transform(data_set1['Career'])  \r\n",
        "data_set1['Career'].unique() \r\n",
        "\r\n",
        "data_set1['Term Type']= label_encoder.fit_transform(data_set1['Term Type'])  \r\n",
        "data_set1['Term Type'].unique() \r\n",
        "\r\n",
        "data_set1['Fiscal Year']= label_encoder.fit_transform(data_set1['Fiscal Year'])  \r\n",
        "data_set1['Fiscal Year'].unique() "
      ],
      "execution_count": null,
      "outputs": [
        {
          "output_type": "execute_result",
          "data": {
            "text/plain": [
              "array([0])"
            ]
          },
          "metadata": {
            "tags": []
          },
          "execution_count": 55
        }
      ]
    },
    {
      "cell_type": "code",
      "metadata": {
        "colab": {
          "base_uri": "https://localhost:8080/"
        },
        "id": "N_8FtcC9BlDz",
        "outputId": "94df85e6-0a53-4ad8-a4cf-74c6ed3d1063"
      },
      "source": [
        "xt= data_set1.iloc[:, :].values \r\n",
        "\r\n",
        "xt.shape"
      ],
      "execution_count": null,
      "outputs": [
        {
          "output_type": "execute_result",
          "data": {
            "text/plain": [
              "(10924, 14)"
            ]
          },
          "metadata": {
            "tags": []
          },
          "execution_count": 56
        }
      ]
    },
    {
      "cell_type": "code",
      "metadata": {
        "colab": {
          "base_uri": "https://localhost:8080/"
        },
        "id": "DxQ31FI1Cjnt",
        "outputId": "d1526bf8-6d85-4358-892f-c5ac77edd658"
      },
      "source": [
        "x_test.shape"
      ],
      "execution_count": null,
      "outputs": [
        {
          "output_type": "execute_result",
          "data": {
            "text/plain": [
              "(6136, 14)"
            ]
          },
          "metadata": {
            "tags": []
          },
          "execution_count": 57
        }
      ]
    },
    {
      "cell_type": "code",
      "metadata": {
        "colab": {
          "base_uri": "https://localhost:8080/"
        },
        "id": "R8Ho93DEBngm",
        "outputId": "c8e4e9b1-8884-4aa8-f231-3f45d828b158"
      },
      "source": [
        "y_pred_dtt= model4.predict(xt)  \r\n",
        "for i in range(len(y_pred_dtt)):\r\n",
        "  y_pred_dtt[i] =round( y_pred_dtt[i])\r\n",
        "y_pred_dtt\r\n"
      ],
      "execution_count": null,
      "outputs": [
        {
          "output_type": "execute_result",
          "data": {
            "text/plain": [
              "array([4., 4., 2., ..., 1., 6., 6.])"
            ]
          },
          "metadata": {
            "tags": []
          },
          "execution_count": 76
        }
      ]
    },
    {
      "cell_type": "code",
      "metadata": {
        "id": "XOi-7sHiGEgV"
      },
      "source": [
        "import csv\r\n",
        "from itertools import zip_longest\r\n",
        "list1 = xt[:,0]\r\n",
        "list2 = y_pred_dtt\r\n",
        "d = [list1, list2]\r\n",
        "export_data = zip_longest(*d, fillvalue = '')\r\n",
        "with open('sub91.csv', 'w', encoding=\"ISO-8859-1\", newline='') as myfile:\r\n",
        "      wr = csv.writer(myfile)\r\n",
        "      wr.writerow((\"Id\", \"Unique Headcount\"))\r\n",
        "      wr.writerows(export_data)\r\n",
        "myfile.close()"
      ],
      "execution_count": null,
      "outputs": []
    },
    {
      "cell_type": "code",
      "metadata": {
        "id": "bu7_R6bhGxL5"
      },
      "source": [
        ""
      ],
      "execution_count": null,
      "outputs": []
    }
  ]
}